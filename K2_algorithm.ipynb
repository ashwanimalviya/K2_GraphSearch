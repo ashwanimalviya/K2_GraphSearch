{
 "cells": [
  {
   "cell_type": "code",
   "execution_count": null,
   "metadata": {},
   "outputs": [],
   "source": [
    "import Pkg\n",
    "\n",
    "Pkg.add(\"BayesNets\")\n",
    "Pkg.add(\"DataFrames\")\n",
    "Pkg.add(\"Discretizers\")\n",
    "Pkg.add(\"LightGraphs\")\n",
    "Pkg.add(\"Printf\")\n",
    "Pkg.add(\"CSV\")\n",
    "Pkg.add(\"Random\")\n",
    "Pkg.add(\"SpecialFunctions\")\n",
    "Pkg.build(\"SpecialFunctions\")\n",
    "Pkg.add(\"TikzGraphs\")"
   ]
  },
  {
   "cell_type": "code",
   "execution_count": null,
   "metadata": {},
   "outputs": [],
   "source": [
    "using BayesNets\n",
    "using DataFrames\n",
    "using Discretizers\n",
    "using TikzGraphs\n",
    "using LightGraphs\n",
    "using Printf\n",
    "using CSV\n",
    "using Random\n",
    "using SpecialFunctions\n",
    "include(\"k2Algorithm.jl\")"
   ]
  },
  {
   "cell_type": "code",
   "execution_count": null,
   "metadata": {},
   "outputs": [],
   "source": [
    "# initialize our struct object\n",
    "# similar to a class object in python except we can not add more attributes to it\n",
    "struct DataObj_type\n",
    "    VarNumber\n",
    "    CaseLength\n",
    "    VarSample\n",
    "    VarRange\n",
    "    VarRangeLength\n",
    "end"
   ]
  },
  {
   "cell_type": "markdown",
   "metadata": {},
   "source": [
    "Below is for demonstration purposes and reflects only a few K2 iterations. If you would like to get the Bayesian score and plots then repeat the code below for \"whitewine.csv\" and \"schoolgrades.csv\". The iterations I used to get the Bayesian Score were as follows:\n",
    "\n",
    "- Titanic: 1000000\n",
    "- WhiteWine: 50000\n",
    "- Schoolgrades: 4000"
   ]
  },
  {
   "cell_type": "code",
   "execution_count": null,
   "metadata": {},
   "outputs": [],
   "source": [
    "\n",
    "\n",
    "# replace the 100 here with the number of iterations you want to run\n",
    "titanicDAG, titanicGraph, titanicNames, titanicBS = main(\"titanic.csv\",100,true)\n",
    "titanicPlotNames = convertNames2string(titanicNames)\n",
    "\n",
    "# follow the same procedure for \"Whitewine\" and \"Schoolgrades\""
   ]
  },
  {
   "cell_type": "markdown",
   "metadata": {},
   "source": [
    "If you are unable to obtain a plot of the graph below, please following the installation instructions [here](https://nbviewer.jupyter.org/github/JuliaTeX/TikzGraphs.jl/blob/master/doc/TikzGraphs.ipynb)."
   ]
  },
  {
   "cell_type": "code",
   "execution_count": null,
   "metadata": {},
   "outputs": [],
   "source": [
    "TikzGraphs.plot(titanicGraph,titanicPlotNames)"
   ]
  }
 ],
 "metadata": {
  "kernelspec": {
   "display_name": "Julia 1.0.0",
   "language": "julia",
   "name": "julia-1.0"
  },
  "language_info": {
   "file_extension": ".jl",
   "mimetype": "application/julia",
   "name": "julia",
   "version": "1.0.5"
  }
 },
 "nbformat": 4,
 "nbformat_minor": 2
}
